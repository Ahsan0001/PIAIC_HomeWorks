{
 "cells": [
  {
   "cell_type": "code",
   "execution_count": 44,
   "metadata": {},
   "outputs": [
    {
     "name": "stdout",
     "output_type": "stream",
     "text": [
      "Version:  **Python3**\n",
      "python3\n",
      "*******Version: ********\n",
      "Total number of TH:  2\n",
      "String n3:  True\n",
      "Differance between Python2.7    Python3 \n",
      "14\n",
      "Testing1 One testing2 Two Testing3 Three\n",
      "7\n",
      "True\n",
      "False\n",
      "False\n",
      "False\n"
     ]
    }
   ],
   "source": [
    "string1 = \"pyTHon3\"\n",
    "string2 = \"Version: \"\n",
    "string3 = string1 + string1\n",
    "string4 = \"Differance between Python2.7\\tPython3 \"\n",
    "print(string2, string1.capitalize().center(len(string2)+2,\"*\"))\n",
    "print(string1.casefold())\n",
    "print(string2.center(24,\"*\"))\n",
    "print(\"Total number of TH: \",string3.count(\"TH\"))\n",
    "print(\"String n3: \",string1.endswith(\"n3\"))\n",
    "print(string4.expandtabs(8))\n",
    "print(string4.find(\"ween\"))\n",
    "print(\"{} One {} Two {} Three\".format(\"testing1\".capitalize(),\"testing2\",\"Testing3\"))\n",
    "print(string2.index(\":\"))\n",
    "print(string1.isalnum())\n",
    "print(string2.isalnum())\n",
    "print(string1.isalpha())\n",
    "print(string2.isalpha())"
   ]
  },
  {
   "cell_type": "code",
   "execution_count": 73,
   "metadata": {},
   "outputs": [
    {
     "name": "stdout",
     "output_type": "stream",
     "text": [
      "Enter any characters to generate random sum out of them: askhbsj\n",
      "-11174.925233644859\n"
     ]
    }
   ],
   "source": [
    "from random import randint\n",
    "alpha = input(\"Enter any characters to generate random sum out of them: \")\n",
    "operators = []\n",
    "try:\n",
    "    for i in alpha:\n",
    "        choice = randint(0,3)\n",
    "        alphabet = ord(i)\n",
    "        if choice == 0:\n",
    "            operators.append(\"{} {} \".format(alphabet, \"+\"))\n",
    "        elif choice == 1:\n",
    "            operators.append(\"{} {} \".format(alphabet,\"-\"))\n",
    "        elif choice == 2:\n",
    "            operators.append(\"{} {} \".format(alphabet,\"*\"))\n",
    "        elif choice == 3:\n",
    "            operators.append(\"{} {} \".format(alphabet,\"/\"))\n",
    "    operators.append(\"1\")\n",
    "    new_var = \"\".join(operators)        \n",
    "    print (eval(new_var))\n",
    "except ZeroDivisionError:\n",
    "    print(\"Zero Division Error\")"
   ]
  },
  {
   "cell_type": "code",
   "execution_count": null,
   "metadata": {},
   "outputs": [],
   "source": []
  },
  {
   "cell_type": "code",
   "execution_count": null,
   "metadata": {},
   "outputs": [],
   "source": []
  },
  {
   "cell_type": "code",
   "execution_count": null,
   "metadata": {},
   "outputs": [],
   "source": []
  },
  {
   "cell_type": "code",
   "execution_count": null,
   "metadata": {},
   "outputs": [],
   "source": []
  },
  {
   "cell_type": "code",
   "execution_count": null,
   "metadata": {},
   "outputs": [],
   "source": []
  },
  {
   "cell_type": "code",
   "execution_count": null,
   "metadata": {},
   "outputs": [],
   "source": []
  }
 ],
 "metadata": {
  "kernelspec": {
   "display_name": "Python 3",
   "language": "python",
   "name": "python3"
  },
  "language_info": {
   "codemirror_mode": {
    "name": "ipython",
    "version": 3
   },
   "file_extension": ".py",
   "mimetype": "text/x-python",
   "name": "python",
   "nbconvert_exporter": "python",
   "pygments_lexer": "ipython3",
   "version": "3.7.3"
  }
 },
 "nbformat": 4,
 "nbformat_minor": 2
}
