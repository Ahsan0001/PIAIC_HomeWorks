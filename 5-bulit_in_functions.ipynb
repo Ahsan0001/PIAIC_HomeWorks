{
 "cells": [
  {
   "cell_type": "code",
   "execution_count": 0,
   "metadata": {},
   "outputs": [
    {
     "name": "stdout",
     "output_type": "stream",
     "text": [
      "True\n"
     ]
    }
   ],
   "source": [
    "# Using all() to check whether all Characters are in capatalized form or not?\n",
    "example = \"ABCD\"\n",
    "print(all(90 >= ord(example[i]) >= 65 for i in range(len(example))))"
   ]
  },
  {
   "cell_type": "code",
   "execution_count": 1,
   "metadata": {},
   "outputs": [
    {
     "name": "stdout",
     "output_type": "stream",
     "text": [
      "AB-1234\n"
     ]
    }
   ],
   "source": [
    "# Getting Student ID with 2 Characters and 4 numbers \n",
    "# Converting it to list and adding hyphen between Characters and numbers\n",
    "# Captalizing first two Characters\n",
    "studentId = \"ab1234\"\n",
    "converter = list(studentId)\n",
    "converter.insert(2, \"-\")\n",
    "converter[0] = converter[0].upper()\n",
    "converter[1] = converter[1].upper()\n",
    "stdId = ''.join(converter)\n",
    "print(stdId)\n"
   ]
  },
  {
   "cell_type": "code",
   "execution_count": 2,
   "metadata": {},
   "outputs": [
    {
     "name": "stdout",
     "output_type": "stream",
     "text": [
      "a\n",
      "b\n",
      "c\n"
     ]
    }
   ],
   "source": [
    "# iterate over a string without using for loop\n",
    "example = \"abc\"\n",
    "iteratedValues = iter(example)\n",
    "print(next(iteratedValues))\n",
    "print(next(iteratedValues))\n",
    "print(next(iteratedValues))"
   ]
  },
  {
   "cell_type": "code",
   "execution_count": null,
   "metadata": {},
   "outputs": [],
   "source": []
  }
 ],
 "metadata": {
  "kernelspec": {
   "display_name": "Python 3",
   "language": "python",
   "name": "python3"
  },
  "language_info": {
   "codemirror_mode": {
    "name": "ipython",
    "version": 3
   },
   "file_extension": ".py",
   "mimetype": "text/x-python",
   "name": "python",
   "nbconvert_exporter": "python",
   "pygments_lexer": "ipython3",
   "version": "3.7.3"
  }
 },
 "nbformat": 4,
 "nbformat_minor": 2
}
